{
 "cells": [
  {
   "cell_type": "markdown",
   "id": "0a92139e",
   "metadata": {},
   "source": [
    "# LDaCA Analysis: Notebook Driver\n",
    "\n",
    "This notebook helps you run the LDaCA web app from a Jupyter environment.\n",
    "\n",
    "What this notebook does:\n",
    "- Starts the FastAPI backend and the frontend/nginx using the repo’s `start` script (non‑blocking)\n",
    "- Opens the UI via the Jupyter proxy in a new tab\n",
    "- Shows a quick workspace object to confirm the backend is live\n",
    "\n",
    "Before you run:\n",
    "- Data root: the backend defaults to `DATA_ROOT=data` under the repository. You can override it by setting the `DATA_ROOT` environment variable before import. The first code cell sets it explicitly when needed.\n",
    "\n",
    "Run order:\n",
    "1) Start services (backend + frontend) in background\n",
    "2) Open the UI through the proxy\n",
    "3) Inspect current workspace"
   ]
  },
  {
   "cell_type": "markdown",
   "id": "29a02f37",
   "metadata": {},
   "source": [
    "# Start Backend and Frontend (Background)\n",
    "\n",
    "This will launch the FastAPI backend and the frontend/nginx via the repository `start` script in the background, then keep the notebook interactive.\n",
    "\n",
    "Notes:\n",
    "- The backend uses `DATA_ROOT` for storage (defaults to `data`). Set it before import to change location\n",
    "- If a server is already running on the same ports, restart the kernel or pick a different port"
   ]
  },
  {
   "cell_type": "code",
   "execution_count": null,
   "id": "64fe46e2",
   "metadata": {},
   "outputs": [],
   "source": [
    "import os\n",
    "import subprocess\n",
    "from IPython.display import display, Markdown\n",
    "\n",
    "os.environ[\"DATA_ROOT\"] = \"./ldaca_web_app/backend/data\"\n",
    "from ldaca_web_app_backend import start_backend, start_frontend\n",
    "\n",
    "# Spawn start in background so the notebook remains interactive\n",
    "proc = subprocess.Popen([\"/bin/bash\", \"start\"])\n",
    "task = start_backend(port=8001)"
   ]
  },
  {
   "cell_type": "markdown",
   "id": "1a55867f",
   "metadata": {},
   "source": [
    "### Opening the UI via Jupyter proxy\n",
    "- If your browser blocks pop‑ups, use the printed link instead"
   ]
  },
  {
   "cell_type": "code",
   "execution_count": null,
   "id": "f9a4f827",
   "metadata": {},
   "outputs": [],
   "source": [
    "from IPython.display import Javascript\n",
    "import os\n",
    "\n",
    "base = (\n",
    "    os.environ.get(\"JUPYTERHUB_SERVICE_PREFIX\")\n",
    "    or os.environ.get(\"JUPYTER_SERVER_URL\")\n",
    "    or os.environ.get(\"JUPYTER_SERVER_ROOT\")\n",
    "    or \"\"\n",
    ")\n",
    "if base and not base.endswith(\"/\"):\n",
    "    base += \"/\"\n",
    "\n",
    "url = f\"{base}proxy/{3000}/\"\n",
    "\n",
    "display(Javascript(f\"window.open('{url}', '_blank');\"))\n",
    "display(Markdown(f\"If popup was blocked, click: [Open Frontend]({url})\"))"
   ]
  },
  {
   "cell_type": "markdown",
   "id": "f0425f1d",
   "metadata": {},
   "source": [
    "### Inspecting the current workspace\n",
    "\n",
    "- The snippet fetches the current workspace for the `root` user and displays its nodes\n",
    "- User data and workspaces are stored under `DATA_ROOT/users/user_root/` by default\n",
    "- If this is your first run, folders are created automatically when the backend starts"
   ]
  },
  {
   "cell_type": "code",
   "execution_count": null,
   "id": "bd7036f0",
   "metadata": {},
   "outputs": [],
   "source": [
    "from ldaca_web_app_backend import workspace_manager\n",
    "\n",
    "ws = workspace_manager.get_current_workspace(\"root\")\n",
    "ws.nodes"
   ]
  }
 ],
 "metadata": {
  "kernelspec": {
   "display_name": "ldaca",
   "language": "python",
   "name": "python3"
  },
  "language_info": {
   "codemirror_mode": {
    "name": "ipython",
    "version": 3
   },
   "file_extension": ".py",
   "mimetype": "text/x-python",
   "name": "python",
   "nbconvert_exporter": "python",
   "pygments_lexer": "ipython3",
   "version": "3.12.11"
  }
 },
 "nbformat": 4,
 "nbformat_minor": 5
}
