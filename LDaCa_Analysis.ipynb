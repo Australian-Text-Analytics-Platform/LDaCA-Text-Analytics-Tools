{
 "cells": [
  {
   "cell_type": "markdown",
   "id": "29a02f37",
   "metadata": {},
   "source": [
    "# Start Backend and Frontend (Background)\n",
    "Run the repository `start` script to launch the FastAPI backend and nginx/frontend in the background, then display health and useful links.\n"
   ]
  },
  {
   "cell_type": "code",
   "execution_count": null,
   "id": "64fe46e2",
   "metadata": {},
   "outputs": [],
   "source": [
    "import os\n",
    "import subprocess\n",
    "from IPython.display import display, Markdown\n",
    "from ldaca_web_app_backend import start_server_async\n",
    "\n",
    "# Spawn start in background so the notebook remains interactive\n",
    "proc = subprocess.Popen(\n",
    "    [\"/bin/bash\", \"-lc\", \"start\"],\n",
    "    stdout=subprocess.DEVNULL,\n",
    "    stderr=subprocess.STDOUT,\n",
    "    start_new_session=True,\n",
    ")\n",
    "\n",
    "os.environ[\"DATA_ROOT\"] = \"./ldaca_web_app/backend/data\"\n",
    "task = start_server_async(host=\"localhost\", port=8001)"
   ]
  },
  {
   "cell_type": "code",
   "execution_count": null,
   "id": "f9a4f827",
   "metadata": {},
   "outputs": [],
   "source": [
    "from IPython.display import Javascript\n",
    "import os\n",
    "\n",
    "base = (\n",
    "    os.environ.get(\"JUPYTERHUB_SERVICE_PREFIX\")\n",
    "    or os.environ.get(\"JUPYTER_SERVER_URL\")\n",
    "    or os.environ.get(\"JUPYTER_SERVER_ROOT\")\n",
    "    or \"\"\n",
    ")\n",
    "if base and not base.endswith(\"/\"):\n",
    "    base += \"/\"\n",
    "\n",
    "url = f\"{base}proxy/{3000}/\"\n",
    "\n",
    "display(Javascript(f\"window.open('{url}', '_blank');\"))\n",
    "display(Markdown(f\"If popup was blocked, click: [Open Frontend]({url})\"))"
   ]
  },
  {
   "cell_type": "code",
   "execution_count": null,
   "id": "bd7036f0",
   "metadata": {},
   "outputs": [],
   "source": [
    "from ldaca_web_app_backend import workspace_manager\n",
    "\n",
    "ws = workspace_manager.get_current_workspace(\"root\")\n",
    "ws.nodes"
   ]
  }
 ],
 "metadata": {
  "language_info": {
   "name": "python"
  }
 },
 "nbformat": 4,
 "nbformat_minor": 5
}
