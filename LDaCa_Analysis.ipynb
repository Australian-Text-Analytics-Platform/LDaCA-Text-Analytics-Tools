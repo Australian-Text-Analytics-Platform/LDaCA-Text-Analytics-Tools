{
 "cells": [
  {
   "cell_type": "markdown",
   "id": "0a92139e",
   "metadata": {},
   "source": [
    "# LDaCA Analysis: Notebook Driver\n",
    "\n",
    "This notebook helps you run the LDaCA web app from a Jupyter environment.\n",
    "\n",
    "Before you run:\n",
    "- Data root: This is where all of the data are stored. The backend defaults to `DATA_ROOT=data` under the repository. You can override it by setting the `DATA_ROOT` environment variable before import. The first code cell sets it explicitly when needed.\n",
    "\n",
    "The following code cells will:\n",
    "1. Start the backend server.\n",
    "2. Start the frontend server.\n",
    "\n",
    "After you run, you'll see a big \"Open web app\" link. Click it to open the web app in a new tab."
   ]
  },
  {
   "cell_type": "code",
   "execution_count": null,
   "id": "64fe46e2",
   "metadata": {},
   "outputs": [],
   "source": [
    "import os\n",
    "import subprocess\n",
    "from IPython.display import display, Markdown\n",
    "from ldaca_web_app_backend import start_backend, start_frontend\n",
    "\n",
    "# Spawn start in background so the notebook remains interactive\n",
    "task = start_backend(port=8001)\n",
    "nginx_proc = start_frontend(\n",
    "    port=3000, download_release=False, build_dir=\"ldaca_web_app/frontend/build\"\n",
    ")"
   ]
  },
  {
   "cell_type": "markdown",
   "id": "f0425f1d",
   "metadata": {},
   "source": [
    "### Inspecting the current workspace\n",
    "\n",
    "- The snippet fetches the current workspace for the `root` user and displays its nodes\n",
    "- User data and workspaces are stored under `DATA_ROOT/users/user_root/` by default\n",
    "- If this is your first run, folders are created automatically when the backend starts"
   ]
  },
  {
   "cell_type": "code",
   "execution_count": null,
   "id": "bd7036f0",
   "metadata": {},
   "outputs": [],
   "source": [
    "from ldaca_web_app_backend import workspace_manager\n",
    "\n",
    "ws = workspace_manager.get_current_workspace(\"root\")\n",
    "ws.nodes"
   ]
  }
 ],
 "metadata": {
  "kernelspec": {
   "display_name": "ldaca",
   "language": "python",
   "name": "python3"
  },
  "language_info": {
   "codemirror_mode": {
    "name": "ipython",
    "version": 3
   },
   "file_extension": ".py",
   "mimetype": "text/x-python",
   "name": "python",
   "nbconvert_exporter": "python",
   "pygments_lexer": "ipython3",
   "version": "3.12.11"
  }
 },
 "nbformat": 4,
 "nbformat_minor": 5
}
